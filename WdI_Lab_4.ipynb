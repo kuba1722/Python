{
 "cells": [
  {
   "cell_type": "markdown",
   "metadata": {
    "deletable": false,
    "editable": false,
    "nbgrader": {
     "checksum": "ae27022cd45a49c5d171dc9df6c2d777",
     "grade": false,
     "grade_id": "cell-4b34e804a6520a5c",
     "locked": true,
     "schema_version": 1,
     "solution": false
    }
   },
   "source": [
    "# Wstęp do Informatyki II - rok akademicki 2017/2018\n",
    "\n",
    "Przed rozpoczęciem pracy z notatnikiem zmień jego nazwę zgodnie z wzorem: `{NrAlbumu}_{Nazwisko}_{Imie}_{PoprzedniaNazwa}`.\n",
    "\n",
    "Przed wysłaniem notatnika upewnij się, że rozwiązałeś wszystkie zadania/ćwiczenia, w szczególności, że uzupełniłeś wszystkie pola `YOUR CODE HERE` oraz `YOUR ANSWER HERE`. Możesz również sprawdzić czy twoje rozwiązania przechodzą wstępną walidację (Validate). "
   ]
  },
  {
   "cell_type": "markdown",
   "metadata": {
    "deletable": false,
    "editable": false,
    "nbgrader": {
     "checksum": "5dfdee5c84b5173f9010e53805e0c99d",
     "grade": false,
     "grade_id": "cell-ed6836e73712236e",
     "locked": true,
     "schema_version": 1,
     "solution": false
    }
   },
   "source": [
    "## Temat: Funkcje. Instrukcje `def`, `lambda`. Tablicowanie funkcji.\n",
    "Zapoznaj się z treścią niniejszego notatnika czytając i wykonując go komórka po komórce. Wykonaj napotkane zadania/ćwiczenia.\n",
    "\n",
    "### Definiowanie funkcji: Instrukcja `def`\n",
    "#### Składnia.\n",
    "- Struktura składni ma postać:\n",
    "\n",
    "```python\n",
    "def nazwa(argumenty):\n",
    "\tblok_instrukcji\n",
    "    return wyrażenie\n",
    "```    \n",
    "- Do tworzenia funkcji służy instrukcja `def`. \n",
    "- Lista argumentów może być pusta lub składać się z dowolnej ilości argumentów oddzielonych przecinkami. \n",
    "- Zawartość bloku instrukcji ustalana jest na podstawie wcięć. \n",
    "- Instrukcja `return` nie jest obowiązkowa. W przypadku jej braku funkcja zwraca wartość `None` \n",
    "- Wywołanie funkcji odbywa się poprzez podanie jej nazwy z odpowiednią liczbą argumentów.\n",
    "- Funkcja musi być zdefiniowana przed jej pierwszym użyciem."
   ]
  },
  {
   "cell_type": "code",
   "execution_count": null,
   "metadata": {},
   "outputs": [],
   "source": [
    "def przywitanie():   #definicja funkcji - bez argumentów\n",
    "    print('Hello')\n",
    "    \n",
    "przywitanie()   #wywołanie funkcji\n",
    "a = przywitanie()  #wywołanie z przypisaniem zwracanej wartości\n",
    "print(a)  #funkcja bez return zwaraca obiekt None"
   ]
  },
  {
   "cell_type": "code",
   "execution_count": null,
   "metadata": {},
   "outputs": [],
   "source": [
    "def przywitanie_razy_n(n, imie):  #definicja funkcji z 2 argumentami\n",
    "    for i in range(n):\n",
    "        print('Hello', imie)\n",
    "    \n",
    "przywitanie_razy_n(3, 'Adam')   #wywołanie funkcji"
   ]
  },
  {
   "cell_type": "markdown",
   "metadata": {
    "deletable": false,
    "editable": false,
    "nbgrader": {
     "checksum": "6d542b5198a4fb351cb5006b4b26933c",
     "grade": false,
     "grade_id": "cell-6ff8a240ab24d111",
     "locked": true,
     "schema_version": 1,
     "solution": false
    }
   },
   "source": [
    "Funkcja może zwracać wartość, służy do tego instrukcja `return`. Może to być pojedyncza wartość lub wiele wartości w postaci krotki."
   ]
  },
  {
   "cell_type": "code",
   "execution_count": null,
   "metadata": {},
   "outputs": [],
   "source": [
    "def funkcja():  #definicja funkcji\n",
    "    return 2    # wartość zwracana przez funkcję\n",
    "\n",
    "a = funkcja()   # wywołanie funkcji - zwracana pojedyncza wartość\n",
    "print(a)"
   ]
  },
  {
   "cell_type": "code",
   "execution_count": null,
   "metadata": {},
   "outputs": [],
   "source": [
    "def funkcja2():       #definicja funkcji\n",
    "    return 1,2,3,4    #wartości zwracane przez funkcję\n",
    "\n",
    "a = funkcja2()        #wywołanie funkcji - zwracana krotka\n",
    "print(a)\n",
    "\n",
    "x,y,z,t = funkcja2()  #kolejne wywołanie funkcji - zwracana krotka z rozpakowaniem\n",
    "print(x,y,z,t)"
   ]
  },
  {
   "cell_type": "code",
   "execution_count": null,
   "metadata": {},
   "outputs": [],
   "source": [
    "def reszta(a, b):   #definicja funkcji o nazwie reszta - dwa argumenty formalne a, b \n",
    "    q = a//b       #jeżeli a, b całkowite q również całkowite\n",
    "    r = a - q*b    #reszta z dzielenia\n",
    "    return (q,r)   #funkcja zwraca dwa argumenty wynik dzielenia i resztę (to samo robi wbudowana metoda divmod())\n",
    "\n",
    "a1 = 2\n",
    "b1 = 3\n",
    "reszta(a1, b1) #wywołanie funkcji z dwoma argumentami aktualnymi "
   ]
  },
  {
   "cell_type": "markdown",
   "metadata": {
    "deletable": false,
    "editable": false,
    "nbgrader": {
     "checksum": "ad968afec1616723f61783ec0f2ecf95",
     "grade": false,
     "grade_id": "cell-aa60a0c22b5dd7bb",
     "locked": true,
     "schema_version": 1,
     "solution": false
    }
   },
   "source": [
    "### Ćwiczenie 1\n",
    "Napisz program, który dla podanego z klawiatury promienia obliczy w funkcji pole i obwód koła. "
   ]
  },
  {
   "cell_type": "code",
   "execution_count": null,
   "metadata": {
    "deletable": false,
    "nbgrader": {
     "checksum": "e550341092d6857b5a909913c3d7edc3",
     "grade": false,
     "grade_id": "cell-692e1f3a138174d9",
     "locked": false,
     "schema_version": 1,
     "solution": true
    }
   },
   "outputs": [],
   "source": [
    "import math\n",
    "pi = math.pi\n",
    "r = input('Podaj promień: ')\n",
    "\n",
    "# YOUR CODE HERE\n",
    "raise NotImplementedError()"
   ]
  },
  {
   "cell_type": "markdown",
   "metadata": {
    "deletable": false,
    "editable": false,
    "nbgrader": {
     "checksum": "70fb7509c6a1e288745f138e92ce459f",
     "grade": false,
     "grade_id": "cell-afa568896ca857aa",
     "locked": true,
     "schema_version": 1,
     "solution": false
    }
   },
   "source": [
    "### Ćwiczenie 2\n",
    "Napisz funkcję, która policzy:\n",
    "$$\n",
    "z = \\left\\{ \\begin{array}{11}\n",
    "x^{2}+y & \\textrm{dla $x^{2}+y^{2}\\leq 1$} & \\qquad (1)\\\\\n",
    "2x+y^{2} & \\textrm{dla $y \\gt x+5$} & \\qquad (2)\\\\\n",
    "\\frac{1}{2}x^{2}+y & \\textrm{dla $ x^{2}+y^{2}>1$ i $y \\leq x+5$} & \\qquad (3)\n",
    "\\end{array} \\right.\n",
    "$$\n",
    "\n",
    "oraz poda numer wzoru, wg którego wartość `z` została policzona. Wywołaj funkcję z parametrami podanymi poniżej."
   ]
  },
  {
   "cell_type": "code",
   "execution_count": null,
   "metadata": {
    "deletable": false,
    "nbgrader": {
     "checksum": "5a78c8f94b10d961d3a28f07ad5aca39",
     "grade": false,
     "grade_id": "cell-48179185dd284eba",
     "locked": false,
     "schema_version": 1,
     "solution": true
    }
   },
   "outputs": [],
   "source": [
    "import math\n",
    "# YOUR CODE HERE\n",
    "raise NotImplementedError()\n",
    "print(fun_z(0.3,0.5))\n",
    "print(fun_z(2,8))\n",
    "print(fun_z(-1,2))"
   ]
  },
  {
   "cell_type": "markdown",
   "metadata": {
    "deletable": false,
    "editable": false,
    "nbgrader": {
     "checksum": "ad1ac490fda112303a73635954277e6c",
     "grade": false,
     "grade_id": "cell-7c018d69a7114da0",
     "locked": true,
     "schema_version": 1,
     "solution": false
    }
   },
   "source": [
    "### Argumenty funkcji.\n",
    "Funkcje mogą przyjmować dowolną ilość argumentów, argumentem może być dowolny obiekt."
   ]
  },
  {
   "cell_type": "code",
   "execution_count": null,
   "metadata": {},
   "outputs": [],
   "source": [
    "# p-norma (dla p = 2 norma euklidesowa)\n",
    "def pnorm(wektor, p):\n",
    "    suma = 0\n",
    "    for x in wektor:\n",
    "        suma+=x**p\n",
    "    norma = suma**(1.0/p)\n",
    "    return norma\n",
    "\n",
    "pnorm([1,2,3],2)"
   ]
  },
  {
   "cell_type": "markdown",
   "metadata": {
    "deletable": false,
    "editable": false,
    "nbgrader": {
     "checksum": "7bd50a693a8df0dc0bc9950bff99defe",
     "grade": false,
     "grade_id": "cell-0e5e4816f49cd518",
     "locked": true,
     "schema_version": 1,
     "solution": false
    }
   },
   "source": [
    "Dla tak zdefiniowanej funkcji liczba i kolejność argumentów formalnych (definicja funkcji) i aktualnych (wywołanie) musi być identyczna."
   ]
  },
  {
   "cell_type": "code",
   "execution_count": null,
   "metadata": {},
   "outputs": [],
   "source": [
    "pnorm([1,2,3])"
   ]
  },
  {
   "cell_type": "code",
   "execution_count": null,
   "metadata": {},
   "outputs": [],
   "source": [
    "pnorm([1,2,3], 2, 3)"
   ]
  },
  {
   "cell_type": "markdown",
   "metadata": {
    "deletable": false,
    "editable": false,
    "nbgrader": {
     "checksum": "111527feb17b4ca5d17e1aad9e6777e5",
     "grade": false,
     "grade_id": "cell-5f64526d35a2abab",
     "locked": true,
     "schema_version": 1,
     "solution": false
    }
   },
   "source": [
    "Możliwe jest jednak coś takiego :) (ale tylko przy podaniu nazwy argumentu i jego wartości)."
   ]
  },
  {
   "cell_type": "code",
   "execution_count": null,
   "metadata": {},
   "outputs": [],
   "source": [
    "pnorm(p=2, wektor=[1,2,3])"
   ]
  },
  {
   "cell_type": "markdown",
   "metadata": {
    "deletable": false,
    "editable": false,
    "nbgrader": {
     "checksum": "c56de4aed9d0cfdc1305e9f230d24ab5",
     "grade": false,
     "grade_id": "cell-7c2a6ef6a7829c2a",
     "locked": true,
     "schema_version": 1,
     "solution": false
    }
   },
   "source": [
    "#### Argumenty domyślne funkcji.\n",
    "\n",
    "Można definiować tzw. argumenty domyślne, których jak nie podamy w wywołaniu to przyjmą ustawioną wartość domyślną."
   ]
  },
  {
   "cell_type": "code",
   "execution_count": null,
   "metadata": {},
   "outputs": [],
   "source": [
    "# p-norma\n",
    "def pnorm(wektor, p=2, pp=True):\n",
    "    suma = 0\n",
    "    for x in wektor:\n",
    "        suma+=x**p\n",
    "    norma = suma**(1.0/p)\n",
    "    if pp:\n",
    "        print('Wartość {0} normy wektora {1} wynosi {2}'.format(p, wektor, norma))\n",
    "    return norma\n",
    "\n",
    "print(pnorm([1,2,3]))\n",
    "print(pnorm([1,2,3],3))\n",
    "print(pnorm([1,2,3],3,False))\n",
    "print(pnorm([1,2,3],pp=False))\n",
    "print(pnorm([1,2,3],p=3,pp=False))"
   ]
  },
  {
   "cell_type": "markdown",
   "metadata": {
    "deletable": false,
    "editable": false,
    "nbgrader": {
     "checksum": "c14e9945950027fcae1b2f7495638248",
     "grade": false,
     "grade_id": "cell-d6795eadef2e123b",
     "locked": true,
     "schema_version": 1,
     "solution": false
    }
   },
   "source": [
    "#### Argumenty funkcji `*args`, `**kargs`.\n",
    "\n",
    "Ponieważ funkcje mogą przyjmować bardzo wiele argumentów, aby wyszystkich nie wypisywać w definicji funkcji używa się argumentów `*args` oraz `**kargs`. Argument `*args` to krotka, do której pakowane są argumenty podawane bezpośrednio (argumenty pozycyjne). Argument `**kargs` to słownik, do którego pakowane są argumenty podawane poprzez przypisanie wartosci do nazwy (argumenty hasłowe). Argumenty pozycyjne muszą być podane jako pierwsze."
   ]
  },
  {
   "cell_type": "code",
   "execution_count": null,
   "metadata": {},
   "outputs": [],
   "source": [
    "def cos(*args, **kargs):\n",
    "    print(args)\n",
    "    print(kargs)\n",
    "    \n",
    "cos(z=3, a='hello', b=(5,6))\n",
    "print('------------------------------------')\n",
    "cos(3, a='hello', b=(5,6))"
   ]
  },
  {
   "cell_type": "code",
   "execution_count": null,
   "metadata": {},
   "outputs": [],
   "source": [
    "def pnorm2(*args, **kargs):\n",
    "    wektor = args[0]\n",
    "    p = args[1]\n",
    "    pp = kargs['pp']\n",
    "    suma = 0\n",
    "    for x in wektor:\n",
    "        suma+=x**p\n",
    "    norma = suma**(1.0/p)\n",
    "    if pp:\n",
    "        print('Wartość {0} normy wektora {1} wynosi {2}'.format(p, wektor, norma))\n",
    "    return norma\n",
    "\n",
    "pnorm2([1,2,3],3,pp=True)"
   ]
  },
  {
   "cell_type": "markdown",
   "metadata": {
    "deletable": false,
    "editable": false,
    "nbgrader": {
     "checksum": "b2131bda8a8c11953961a4b9b277a58f",
     "grade": false,
     "grade_id": "cell-125a34bd8fd9d531",
     "locked": true,
     "schema_version": 1,
     "solution": false
    }
   },
   "source": [
    "#### Funkcje jako argumenty innych funkcji.\n",
    "\n",
    "Funkcje mogą być argumentami innych funkcji."
   ]
  },
  {
   "cell_type": "code",
   "execution_count": null,
   "metadata": {},
   "outputs": [],
   "source": [
    "def suma(a, b):\n",
    "    return a+b\n",
    "\n",
    "def roznica(a, b):\n",
    "    return a-b\n",
    "\n",
    "def wykonaj(x, y, f):\n",
    "    return f(x, y)"
   ]
  },
  {
   "cell_type": "code",
   "execution_count": null,
   "metadata": {},
   "outputs": [],
   "source": [
    "print('suma =', wykonaj(2, 3, suma))\n",
    "print('różnica =', wykonaj(2, 3, roznica))"
   ]
  },
  {
   "cell_type": "markdown",
   "metadata": {
    "deletable": false,
    "editable": false,
    "nbgrader": {
     "checksum": "f807bc4e4bcd6d17faeab2d926bf592b",
     "grade": false,
     "grade_id": "cell-7ccb5d20201cff0c",
     "locked": true,
     "schema_version": 1,
     "solution": false
    }
   },
   "source": [
    "### Ćwiczenie 3\n",
    "Napisz funkcję obliczającą wartość $y=x^{2}+f(x)$, tak by funkcja $f(x)$ mogła być dowolną funkcją. Policz wartości $y$ dla $f(x)=\\sin(x)$ i $f(x)=\\cos(x)$."
   ]
  },
  {
   "cell_type": "code",
   "execution_count": null,
   "metadata": {
    "deletable": false,
    "nbgrader": {
     "checksum": "6e77a7a16b95b289e37c4d1cffbd98d2",
     "grade": false,
     "grade_id": "cell-8e38f622b92f78b6",
     "locked": false,
     "schema_version": 1,
     "solution": true
    }
   },
   "outputs": [],
   "source": [
    "import math\n",
    "x = input('Podaj x: ')\n",
    "# YOUR CODE HERE\n",
    "raise NotImplementedError()"
   ]
  },
  {
   "cell_type": "markdown",
   "metadata": {
    "deletable": false,
    "editable": false,
    "nbgrader": {
     "checksum": "96e412977b29c4bcd0aff84ad6fdedd4",
     "grade": false,
     "grade_id": "cell-2740237d212db517",
     "locked": true,
     "schema_version": 1,
     "solution": false
    }
   },
   "source": [
    "#### Funkcje rekurencyjne.\n",
    "Funkcja może odwoływać się do samej siebie. Python nakłada ograniczenie na liczbę rekurencyjnych wywołań funkcji. Limit zwraca funkcja `sys.getrecursionlimit()`."
   ]
  },
  {
   "cell_type": "code",
   "execution_count": null,
   "metadata": {},
   "outputs": [],
   "source": [
    "def silnia(n):\n",
    "    if n<2:\n",
    "        return 1\n",
    "    return n*silnia(n-1)"
   ]
  },
  {
   "cell_type": "code",
   "execution_count": null,
   "metadata": {},
   "outputs": [],
   "source": [
    "silnia(4)"
   ]
  },
  {
   "cell_type": "code",
   "execution_count": null,
   "metadata": {},
   "outputs": [],
   "source": [
    "import sys\n",
    "sys.getrecursionlimit()"
   ]
  },
  {
   "cell_type": "markdown",
   "metadata": {
    "deletable": false,
    "editable": false,
    "nbgrader": {
     "checksum": "7bba3e3a2539f075939567a444ff1f0a",
     "grade": false,
     "grade_id": "cell-fd0a21cb9b0e545e",
     "locked": true,
     "schema_version": 1,
     "solution": false
    }
   },
   "source": [
    "### Ćwiczenie 4\n",
    "Oblicz wartość symbolu Newtona $\\large{n \\choose k}$ dla zadanych liczb całkowitych $n, k$ gdy ($k \\leq n$). Obliczanie silni z danej liczby całkowitej umieść w funkcji."
   ]
  },
  {
   "cell_type": "code",
   "execution_count": null,
   "metadata": {
    "deletable": false,
    "nbgrader": {
     "checksum": "0882f22c94dfbac3e8e6d7d511177125",
     "grade": false,
     "grade_id": "cell-a5ef6302fe1bac61",
     "locked": false,
     "schema_version": 1,
     "solution": true
    }
   },
   "outputs": [],
   "source": [
    "n = input('Podaj n: ')\n",
    "k = input('Podaj k: ')\n",
    "\n",
    "# YOUR CODE HERE\n",
    "raise NotImplementedError()"
   ]
  },
  {
   "cell_type": "markdown",
   "metadata": {
    "deletable": false,
    "editable": false,
    "nbgrader": {
     "checksum": "762a47b00fce0df66dc976ba4ac46efe",
     "grade": false,
     "grade_id": "cell-0962df0cc82c234c",
     "locked": true,
     "schema_version": 1,
     "solution": false
    }
   },
   "source": [
    "### Operator `lambda`.\n",
    "#### Składnia.\n",
    "Struktura składni ma postać:\n",
    "\n",
    "```python\n",
    "lambda argumenty : wyrażenie\t\n",
    "```    \n",
    "\n",
    "Tworzy funkcję anonimową w postaci wyrażenia. Zapis w jednej linii. Argumenty oddzielone przecinkami. Funkcja tak zdefiniowana zwraca obliczoną wartość `wyrażenie`."
   ]
  },
  {
   "cell_type": "code",
   "execution_count": null,
   "metadata": {},
   "outputs": [],
   "source": [
    "a = lambda x, y : x + y   #definicja funkcji \n",
    "\n",
    "print(a(2, 3))\n",
    "print(a(7, -8))"
   ]
  },
  {
   "cell_type": "markdown",
   "metadata": {
    "deletable": false,
    "editable": false,
    "nbgrader": {
     "checksum": "6d1174ab7519ba37f8f8e93395200c23",
     "grade": false,
     "grade_id": "cell-2e1ddc3ef1792861",
     "locked": true,
     "schema_version": 1,
     "solution": false
    }
   },
   "source": [
    "### Ćwiczenie 5.\n",
    "#### Tablicowanie funkcji\n",
    "Stablicować daną funkcję $y=f(x)$ w zadanym przedziale $(a,b)$ z krokiem $dx$ ($dx<<a-b$). Funkcja dana jest przepisem:\n",
    "\n",
    "$$\n",
    "z = \\left\\{ \\begin{array}{11}\n",
    "-2x+ \\frac{1}{5} & \\textrm{dla $x \\lt -2$} & \\qquad (1)\\\\\n",
    "x^{2}+3 & \\textrm{dla $-2 \\le x \\le 4$} & \\qquad (2)\\\\\n",
    "\\frac{1}{2}x^+1 & \\textrm{dla $ x \\gt 4$} & \\qquad (3)\n",
    "\\end{array} \\right.\n",
    "$$"
   ]
  },
  {
   "cell_type": "code",
   "execution_count": null,
   "metadata": {
    "deletable": false,
    "nbgrader": {
     "checksum": "38ba522e893c0bc1063f1b3bd48e8823",
     "grade": false,
     "grade_id": "cell-d1bb3fd27900debd",
     "locked": false,
     "schema_version": 1,
     "solution": true
    }
   },
   "outputs": [],
   "source": [
    "import math\n",
    "a = input('Podaj a: ')\n",
    "b = input('Podaj b: ')\n",
    "dx = input('Podaj dx: ')\n",
    "\n",
    "# YOUR CODE HERE\n",
    "raise NotImplementedError()"
   ]
  },
  {
   "cell_type": "markdown",
   "metadata": {
    "deletable": false,
    "editable": false,
    "nbgrader": {
     "checksum": "b238b078f3b73cd82a01c0fe6958d909",
     "grade": false,
     "grade_id": "cell-24f564fd04b60551",
     "locked": true,
     "schema_version": 1,
     "solution": false
    }
   },
   "source": [
    "### Przykład do projektu.\n",
    "#### Tablicowanie funkcji $e^{x}$ danej szeregiem nieskończonym w przedziale $<a,b>$.\n",
    "Zakładamy, że dana funkcja $f(x)$ jest określona w przedziale $<a,b>$ oraz $a<b$. Przedział $<a,b>$ dzielimy na $n$ części. Każdą funkcję można przedstawić w postaci nieskończonego szeregu korzystając z jej rozinięcia w szereg Taylora.\n",
    "\n",
    "$$f(x)=e^{x}=1+\\frac{x}{1!}+\\frac{x^{2}}{2!}+\\frac {x^{3}}{3!}+\\dots$$\n",
    "\n",
    "Wprowadzając oznaczenie \n",
    "\n",
    "$$a_{n}=\\frac{x^{n}}{n!} \\textrm{ dla  }n=0,1,\\dots$$\n",
    "\n",
    "można wyprowadzić algorytm rekurencyjny do obliczania wyrazu $a_{n}$:\n",
    "\n",
    "$$a_{0}=1$$\n",
    "\n",
    "$$a_{n+1}=a_{n}\\frac{x}{n+1} \\textrm{  dla  }n=0,1,\\dots$$\n",
    "\n",
    "Ponadto założymy, że sumowanie zostanie zakończone, jeśli:\n",
    "\n",
    "$$\\big|a_{n}\\big|<\\epsilon\\sum_{k=0}^{n} \\frac{x^{k}}{k!},$$\n",
    "\n",
    "gdzie $\\epsilon$ jest przyjętą tolerancją błędu.\n",
    "\n",
    "Algorytm obliczania funkcji $e^{x}$ w danym punkcie przyjmie postać:\n",
    "1. Pobierz dane: $x$ oraz $\\epsilon$,\n",
    "2. $s=1$,\n",
    "3. $a=1$,\n",
    "4. $n=1$,\n",
    "5. $a=a\\frac{x}{n}$,\n",
    "6. $s=s+a$\n",
    "7. $n=n+1$\n",
    "8. jeśli $|a|\\ge \\epsilon s$ idź do pkt.5, w przeciwnym razie zakończ sumowanie,\n",
    "9. koniec obliczeń\n",
    "\n",
    "Dla sprawdzenia poprawności wykonanych obliczeń wyprowadź wartość ścisłą funkcji w danym punkcie korzystając z biblioteki `math`."
   ]
  },
  {
   "cell_type": "code",
   "execution_count": null,
   "metadata": {
    "deletable": false,
    "editable": false,
    "nbgrader": {
     "checksum": "183947f7ab7396ec86daf098f5ab98a5",
     "grade": false,
     "grade_id": "cell-3b9fbf1afda6fbc1",
     "locked": true,
     "schema_version": 1,
     "solution": false
    }
   },
   "outputs": [],
   "source": [
    "import math\n",
    "a = input('Podaj a: ')\n",
    "b = input('Podaj b: ')\n",
    "n = input('Podaj liczbę podziałów przedziału <a,b>: ')\n",
    "eps = input('Podaj tolerancję dla obliczeń ')\n",
    "\n",
    "# ROZWIĄZANIE\n",
    "\n",
    "def fun_e(x,eps): #funkcja wyznaczająca wartość e^x w danym punkcie poprzez sumowanie kolejnych wyrazów szeregu \n",
    "    s = 1\n",
    "    a = 1\n",
    "    n = 1\n",
    "    while abs(a)>eps: \n",
    "        a = a * x /n\n",
    "        s = s + a\n",
    "        n = n + 1\n",
    "    return s    \n",
    "\n",
    "#tablicowanie\n",
    "a = float(a)\n",
    "b = float(b)\n",
    "n = int(n)\n",
    "eps = float(eps)\n",
    "if a >= b:\n",
    "    print('Błąd danych')\n",
    "    raise NotImplementedError \n",
    "dx = (b-a)/n #krok z jakim tablicujemy funkcję\n",
    "x = a # rozpoczynamy od początku przedziału\n",
    "print('|     x     |     f(x)      |     f_s(x)    |')\n",
    "while x<=b:\n",
    "    y = fun_e(x,eps)#wartość funkcji w punkcie z szeregu\n",
    "    ys = math.exp(x)#wartość ścisła funkcji w pukcie x\n",
    "    print('|%11f|%15.6f|%15.6f|' %(x,y,ys))\n",
    "    x = x + dx"
   ]
  },
  {
   "cell_type": "markdown",
   "metadata": {
    "deletable": false,
    "editable": false,
    "nbgrader": {
     "checksum": "9928eaed64bdeab7b85259e92b20752b",
     "grade": false,
     "grade_id": "cell-3ea6d66fee385601",
     "locked": true,
     "schema_version": 1,
     "solution": false
    }
   },
   "source": [
    "## Projekt nr 1. Tablicowanie funkcji. (10pkt.)\n",
    "- Policz wartości funkcji $y = f(x)$ we wszystkich punktach podziału na $n$ części przedziału $[a, b]$.\n",
    "- Funkcja $f(x)$ dana jest w postaci rozwinięcia w szereg potęgowy i w postaci wzoru analitycznego. \n",
    "- Obliczanie sumy szeregu wykonaj z dokładnością $\\epsilon$. \n",
    "- Algorytm obliczania sumy szeregu zapisz w oddzielnej funkcji.\n",
    "- Uzupełnij funkcję obliczającą sumę szeregu tak, by sumowanych było co najwyżej M wyrazów szeregu. Oznacza to, że przerwanie sumowania może nastąpić również wtedy, gdy nie została osiągnięta żądana dokładność.\n",
    "- Informacja o tym, czy została osiągnięta dokładność czy też nie winna być przekazana z funkcji obliczającej sumę szeregu.\n",
    "- Uzupełnij funkcję obliczającą sumę szeregu tak, by funkcja zwracała dodatkowo liczbę sumowanych wyrazów szeregu."
   ]
  },
  {
   "cell_type": "code",
   "execution_count": null,
   "metadata": {
    "deletable": false,
    "nbgrader": {
     "checksum": "4f6bb1003c1ca06960d3398e72086a57",
     "grade": true,
     "grade_id": "cell-58c8ddf08c87ed01",
     "locked": false,
     "points": 10,
     "schema_version": 1,
     "solution": true
    }
   },
   "outputs": [],
   "source": [
    "# YOUR CODE HERE\n",
    "raise NotImplementedError()"
   ]
  },
  {
   "cell_type": "markdown",
   "metadata": {
    "deletable": false,
    "editable": false,
    "nbgrader": {
     "checksum": "0456047b555822b10e0f13a29686ea36",
     "grade": false,
     "grade_id": "cell-e22be4ce9286c4d9",
     "locked": true,
     "schema_version": 1,
     "solution": false
    }
   },
   "source": [
    "<div style=\"text-align: right\">&copy; Instytut Informatyki, Politechnika Krakowska </div>"
   ]
  }
 ],
 "metadata": {
  "kernelspec": {
   "display_name": "Python 3",
   "language": "python",
   "name": "python3"
  },
  "language_info": {
   "codemirror_mode": {
    "name": "ipython",
    "version": 3
   },
   "file_extension": ".py",
   "mimetype": "text/x-python",
   "name": "python",
   "nbconvert_exporter": "python",
   "pygments_lexer": "ipython3",
   "version": "3.6.3"
  }
 },
 "nbformat": 4,
 "nbformat_minor": 2
}
